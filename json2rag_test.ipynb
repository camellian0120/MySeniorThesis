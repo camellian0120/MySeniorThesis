{
 "cells": [
  {
   "cell_type": "markdown",
   "id": "4bf9ac82-7b15-4e63-aec1-a79270c7a3d9",
   "metadata": {},
   "source": [
    "## JSONファイルからRAG用のベクトルDBを作る\n",
    "\n",
    "#### task\n",
    "1. 下記リンクコピペ [ok]\n",
    "2. 正常動作するように変更 [x]\n",
    "3. サーバのリソースを占有しないためにLLM部分は適宜unsloth/gpt-oss-20bに変更する [x]\n",
    "\n",
    "LangChainを使ってシンプルなRAG作ってみた\n",
    "> https://qiita.com/yagiyanagi/items/bfff61dbd077eb391812#langchain%E3%82%92%E4%BD%BF%E3%81%A3%E3%81%9Frag%E3%81%AE%E6%A7%8B%E7%AF%89%E6%89%8B%E9%A0%86"
   ]
  },
  {
   "cell_type": "markdown",
   "id": "47ff141d-66e4-470d-bd23-2e567dab3a55",
   "metadata": {},
   "source": [
    "### install"
   ]
  },
  {
   "cell_type": "code",
   "execution_count": 1,
   "id": "57589987-87be-4085-a843-5e7bb4b2c190",
   "metadata": {},
   "outputs": [
    {
     "name": "stdout",
     "output_type": "stream",
     "text": [
      "\u001b[1;31merror\u001b[0m: \u001b[1mexternally-managed-environment\u001b[0m\n",
      "\n",
      "\u001b[31m×\u001b[0m This environment is externally managed\n",
      "\u001b[31m╰─>\u001b[0m To install Python packages system-wide, try 'pacman -S\n",
      "\u001b[31m   \u001b[0m python-xyz', where xyz is the package you are trying to\n",
      "\u001b[31m   \u001b[0m install.\n",
      "\u001b[31m   \u001b[0m \n",
      "\u001b[31m   \u001b[0m If you wish to install a non-Arch-packaged Python package,\n",
      "\u001b[31m   \u001b[0m create a virtual environment using 'python -m venv path/to/venv'.\n",
      "\u001b[31m   \u001b[0m Then use path/to/venv/bin/python and path/to/venv/bin/pip.\n",
      "\u001b[31m   \u001b[0m \n",
      "\u001b[31m   \u001b[0m If you wish to install a non-Arch packaged Python application,\n",
      "\u001b[31m   \u001b[0m it may be easiest to use 'pipx install xyz', which will manage a\n",
      "\u001b[31m   \u001b[0m virtual environment for you. Make sure you have python-pipx\n",
      "\u001b[31m   \u001b[0m installed via pacman.\n",
      "\n",
      "\u001b[1;35mnote\u001b[0m: If you believe this is a mistake, please contact your Python installation or OS distribution provider. You can override this, at the risk of breaking your Python installation or OS, by passing --break-system-packages.\n",
      "\u001b[1;36mhint\u001b[0m: See PEP 668 for the detailed specification.\n"
     ]
    }
   ],
   "source": [
    "# !yay -S python-langchain python-langchain-community python-jq python-sentence-transformers\n",
    "!pip install langchain langchain-community jq sentence-transformers"
   ]
  },
  {
   "cell_type": "markdown",
   "id": "b4bb6afd-81b0-4d09-b247-a2636104d76d",
   "metadata": {},
   "source": [
    "### 埋め込みモデルの準備"
   ]
  },
  {
   "cell_type": "code",
   "execution_count": 2,
   "id": "748b5bc2-f7a9-4e30-9b86-98a358fa8076",
   "metadata": {},
   "outputs": [
    {
     "name": "stderr",
     "output_type": "stream",
     "text": [
      "/tmp/ipykernel_248960/3077754740.py:2: LangChainDeprecationWarning: The class `HuggingFaceEmbeddings` was deprecated in LangChain 0.2.2 and will be removed in 1.0. An updated version of the class exists in the :class:`~langchain-huggingface package and should be used instead. To use it run `pip install -U :class:`~langchain-huggingface` and import as `from :class:`~langchain_huggingface import HuggingFaceEmbeddings``.\n",
      "  embeddings = HuggingFaceEmbeddings()\n",
      "/tmp/ipykernel_248960/3077754740.py:2: LangChainDeprecationWarning: Default values for HuggingFaceEmbeddings.model_name were deprecated in LangChain 0.2.16 and will be removed in 0.4.0. Explicitly pass a model_name to the HuggingFaceEmbeddings constructor instead.\n",
      "  embeddings = HuggingFaceEmbeddings()\n",
      "/usr/lib/python3.13/site-packages/tqdm/auto.py:21: TqdmWarning: IProgress not found. Please update jupyter and ipywidgets. See https://ipywidgets.readthedocs.io/en/stable/user_install.html\n",
      "  from .autonotebook import tqdm as notebook_tqdm\n"
     ]
    }
   ],
   "source": [
    "from langchain.embeddings import HuggingFaceEmbeddings\n",
    "embeddings = HuggingFaceEmbeddings()"
   ]
  },
  {
   "cell_type": "markdown",
   "id": "1d024e5d-a496-4657-9a27-6c71e98a8699",
   "metadata": {},
   "source": [
    "### ベクトルDBの設定"
   ]
  },
  {
   "cell_type": "code",
   "execution_count": 3,
   "id": "e0a5a243-0dbf-4702-8091-b26929019329",
   "metadata": {},
   "outputs": [],
   "source": [
    "from langchain_core.vectorstores import InMemoryVectorStore\n",
    "vector_store = InMemoryVectorStore(embeddings)"
   ]
  },
  {
   "cell_type": "markdown",
   "id": "390ca914-19dc-4999-9ba0-3f4a7caddf10",
   "metadata": {},
   "source": [
    "### データの読み込み"
   ]
  },
  {
   "cell_type": "code",
   "execution_count": 4,
   "id": "c4bcb5ee-e3f6-476f-ab10-85b206fc6b86",
   "metadata": {},
   "outputs": [],
   "source": [
    "# langchainのJson読み込みモジュールを使う\n",
    "from langchain.document_loaders import JSONLoader\n",
    "\n",
    "loader = JSONLoader(\n",
    "    file_path=\"./JVN.json\",\n",
    "    jq_schema=\".[]\",\n",
    "    text_content=False\n",
    ")\n",
    "\n",
    "docs = loader.load()\n",
    "for doc in docs:\n",
    "    doc.page_content = doc.page_content.encode('utf-8').decode('unicode_escape')\n"
   ]
  },
  {
   "cell_type": "code",
   "execution_count": 5,
   "id": "2947ff78-7df4-4d25-b60d-7ae46363d8a4",
   "metadata": {},
   "outputs": [
    {
     "data": {
      "text/plain": [
       "Document(metadata={'source': '/home/yokogawa/ドキュメント/MySeniorThesis-main/JVN.json', 'seq_num': 1}, page_content='{\"title\": \"escanav の Linux 用 escan anti-virus におけるバッファエラーの脆弱性\", \"description\": \"A vulnerability was found in MicroWord eScan Antivirus 7.0.32 on Linux and classified as critical. Affected by this issue is the function strcpy of the component VirusPopUp. The manipulation leads to stack-based buffer overflow. The attack needs to be approached locally. The exploit has been disclosed to the public and may be used. The vendor was contacted early about this disclosure but did not respond in any way.\", \"technologies\": \"escanav\", \"version\": \"7.0.32\"}')"
      ]
     },
     "execution_count": 5,
     "metadata": {},
     "output_type": "execute_result"
    }
   ],
   "source": [
    "docs[0]"
   ]
  },
  {
   "cell_type": "markdown",
   "id": "ed66482b-1c2a-4bc1-9471-8814324479bc",
   "metadata": {},
   "source": [
    "### データの分割"
   ]
  },
  {
   "cell_type": "code",
   "execution_count": 6,
   "id": "1141fdab-604d-4c51-a16a-e9ebc0c4415d",
   "metadata": {},
   "outputs": [],
   "source": [
    "from langchain_text_splitters import RecursiveCharacterTextSplitter\n",
    "\n",
    "text_splitter = RecursiveCharacterTextSplitter(chunk_size=100, chunk_overlap=20)\n",
    "all_splits = text_splitter.split_documents(docs)"
   ]
  },
  {
   "cell_type": "markdown",
   "id": "d67f00db-4ad9-43d9-9a3a-917c71e12b53",
   "metadata": {},
   "source": [
    "### データの保存"
   ]
  },
  {
   "cell_type": "code",
   "execution_count": null,
   "id": "f6e8d8c1-2200-41d3-8d09-49474ea24095",
   "metadata": {},
   "outputs": [],
   "source": [
    "_ = vector_store.add_documents(documents=all_splits)"
   ]
  },
  {
   "cell_type": "markdown",
   "id": "a734123c-2fd1-410d-b132-09c7094c4911",
   "metadata": {},
   "source": [
    "### Stateの定義"
   ]
  },
  {
   "cell_type": "code",
   "execution_count": null,
   "id": "76257104-3572-4b6a-9842-41884537fe08",
   "metadata": {},
   "outputs": [],
   "source": [
    "from langchain_core.documents import Document\n",
    "from typing_extensions import List, TypedDict\n",
    "\n",
    "class State(TypedDict):\n",
    "    question: str\n",
    "    context: List[Document]\n",
    "    answer: str"
   ]
  },
  {
   "cell_type": "markdown",
   "id": "4a955dab-d585-46cd-a17e-3342afbb1604",
   "metadata": {},
   "source": [
    "### Retrieverの構築"
   ]
  },
  {
   "cell_type": "code",
   "execution_count": null,
   "id": "0de8b789-6955-43f6-a8bb-fe76dd1046eb",
   "metadata": {},
   "outputs": [],
   "source": [
    "def retrieve(state: State):\n",
    "    retrieved_docs = vector_store.similarity_search(state[\"question\"])\n",
    "    return {\"context\": retrieved_docs}"
   ]
  },
  {
   "cell_type": "markdown",
   "id": "8cc74ec2-985b-440b-bf96-aef4030f1f6a",
   "metadata": {},
   "source": [
    "### Generatorの構築"
   ]
  },
  {
   "cell_type": "code",
   "execution_count": null,
   "id": "3c839504-3a92-4ba7-87bb-978935950159",
   "metadata": {},
   "outputs": [],
   "source": [
    "from langchain_core.prompts import PromptTemplate\n",
    "\n",
    "prompt = \"\"\"\n",
    "\n",
    "質問: {question}\n",
    "コンテキスト: {context}\n",
    "回答:\n",
    "\"\"\"\n",
    "\n",
    "def generate(state: State):\n",
    "    docs_context = \"\\n\\n\".join(doc.page_content for doc in state[\"context\"])\n",
    "    messages = prompt.invoke({\"question\": state[\"question\"], \"context\": docs_context})\n",
    "    response = llm.invoke(messages)\n",
    "    return {\"answer\": response.content}"
   ]
  },
  {
   "cell_type": "markdown",
   "id": "063453fc-0a0d-4eca-b291-9474bd50277e",
   "metadata": {},
   "source": [
    "### 制御フローの定義"
   ]
  },
  {
   "cell_type": "code",
   "execution_count": 2,
   "id": "e0243cc9-33e0-4f6a-bbb7-1fdc8e8424d7",
   "metadata": {},
   "outputs": [
    {
     "ename": "ModuleNotFoundError",
     "evalue": "No module named 'langgraph.graph'",
     "output_type": "error",
     "traceback": [
      "\u001b[31m---------------------------------------------------------------------------\u001b[39m",
      "\u001b[31mModuleNotFoundError\u001b[39m                       Traceback (most recent call last)",
      "\u001b[36mCell\u001b[39m\u001b[36m \u001b[39m\u001b[32mIn[2]\u001b[39m\u001b[32m, line 1\u001b[39m\n\u001b[32m----> \u001b[39m\u001b[32m1\u001b[39m \u001b[38;5;28;01mfrom\u001b[39;00m\u001b[38;5;250m \u001b[39m\u001b[34;01mlanggraph\u001b[39;00m\u001b[34;01m.\u001b[39;00m\u001b[34;01mgraph\u001b[39;00m\u001b[38;5;250m \u001b[39m\u001b[38;5;28;01mimport\u001b[39;00m START, StateGraph\n\u001b[32m      3\u001b[39m graph_builder = StateGraph(State).add_sequence([retrieve, generate])\n\u001b[32m      4\u001b[39m graph_builder.add_edge(START, \u001b[33m\"\u001b[39m\u001b[33mretrieve\u001b[39m\u001b[33m\"\u001b[39m)\n",
      "\u001b[31mModuleNotFoundError\u001b[39m: No module named 'langgraph.graph'"
     ]
    }
   ],
   "source": [
    "from langgraph.graph import START, StateGraph\n",
    "\n",
    "graph_builder = StateGraph(State).add_sequence([retrieve, generate])\n",
    "graph_builder.add_edge(START, \"retrieve\")\n",
    "graph = graph_builder.compile()"
   ]
  },
  {
   "cell_type": "markdown",
   "id": "66554ccb-ebed-48bb-a3fc-5a90d898f97f",
   "metadata": {},
   "source": [
    "### 使用例"
   ]
  },
  {
   "cell_type": "code",
   "execution_count": 3,
   "id": "8c618c1f-d84c-4a9b-a12e-8a9624186e9b",
   "metadata": {},
   "outputs": [
    {
     "ename": "NameError",
     "evalue": "name 'graph' is not defined",
     "output_type": "error",
     "traceback": [
      "\u001b[31m---------------------------------------------------------------------------\u001b[39m",
      "\u001b[31mNameError\u001b[39m                                 Traceback (most recent call last)",
      "\u001b[36mCell\u001b[39m\u001b[36m \u001b[39m\u001b[32mIn[3]\u001b[39m\u001b[32m, line 1\u001b[39m\n\u001b[32m----> \u001b[39m\u001b[32m1\u001b[39m response = \u001b[43mgraph\u001b[49m.invoke({\u001b[33m\"\u001b[39m\u001b[33mquestion\u001b[39m\u001b[33m\"\u001b[39m: \u001b[33m\"\u001b[39m\u001b[33mなおっちさんはどこで働いていますか？\u001b[39m\u001b[33m\"\u001b[39m})\n\u001b[32m      2\u001b[39m \u001b[38;5;28mprint\u001b[39m(response[\u001b[33m\"\u001b[39m\u001b[33manswer\u001b[39m\u001b[33m\"\u001b[39m])\n",
      "\u001b[31mNameError\u001b[39m: name 'graph' is not defined"
     ]
    }
   ],
   "source": [
    "response = graph.invoke({\"question\": \"なおっちさんはどこで働いていますか？\"})\n",
    "print(response[\"answer\"])"
   ]
  },
  {
   "cell_type": "code",
   "execution_count": 4,
   "id": "84df45ad-616e-493c-bf94-19f676248d87",
   "metadata": {},
   "outputs": [
    {
     "ename": "NameError",
     "evalue": "name 'response' is not defined",
     "output_type": "error",
     "traceback": [
      "\u001b[31m---------------------------------------------------------------------------\u001b[39m",
      "\u001b[31mNameError\u001b[39m                                 Traceback (most recent call last)",
      "\u001b[36mCell\u001b[39m\u001b[36m \u001b[39m\u001b[32mIn[4]\u001b[39m\u001b[32m, line 1\u001b[39m\n\u001b[32m----> \u001b[39m\u001b[32m1\u001b[39m \u001b[38;5;28mprint\u001b[39m(\u001b[43mresponse\u001b[49m[\u001b[33m'\u001b[39m\u001b[33mcontext\u001b[39m\u001b[33m'\u001b[39m])\n",
      "\u001b[31mNameError\u001b[39m: name 'response' is not defined"
     ]
    }
   ],
   "source": [
    "print(response['context'])"
   ]
  },
  {
   "cell_type": "code",
   "execution_count": null,
   "id": "c05dfb88-2c4d-4eb2-9706-6357bff9264b",
   "metadata": {},
   "outputs": [],
   "source": []
  }
 ],
 "metadata": {
  "kernelspec": {
   "display_name": "Python 3 (ipykernel)",
   "language": "python",
   "name": "python3"
  },
  "language_info": {
   "codemirror_mode": {
    "name": "ipython",
    "version": 3
   },
   "file_extension": ".py",
   "mimetype": "text/x-python",
   "name": "python",
   "nbconvert_exporter": "python",
   "pygments_lexer": "ipython3",
   "version": "3.13.7"
  }
 },
 "nbformat": 4,
 "nbformat_minor": 5
}
