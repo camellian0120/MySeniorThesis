{
 "cells": [
  {
   "cell_type": "markdown",
   "id": "25311aa2",
   "metadata": {},
   "source": [
    "### python scraping test"
   ]
  },
  {
   "cell_type": "markdown",
   "id": "d9efc2b2-84b2-474e-8bf2-cb30004fc680",
   "metadata": {},
   "source": [
    "### Reference:\n",
    "#### target\n",
    "JVN iPedia - 脆弱性対策情報データベース\n",
    "> https://jvndb.jvn.jp/search/index.php?mode=_vulnerability_search_IA_VulnSearch&lang=ja&keyword=Linux&useSynonym=1&vendor=&product=&datePublicFromYear=2020&datePublicFromMonth=12&datePublicToYear=2025&datePublicToMonth=11&dateLastPublishedFromYear=&dateLastPublishedFromMonth=&dateLastPublishedToYear=&dateLastPublishedToMonth=&v3Severity%5B0%5D=01&v3Severity%5B1%5D=02&cwe=&searchProductId=&pageNo=2\n",
    "\n",
    "#### scrapy\n",
    "10分で理解する Scrapy #Python - Qiita\n",
    "> https://qiita.com/Chanmoro/items/f4df85eb73b18d902739\n",
    "\n",
    "python超初心者がスクレイピングしてみる #Python - Qiita\n",
    "> https://qiita.com/ritukiii/items/272d485e8a249d0d1bd7\n",
    "\n",
    "新人「先輩、Scrapyでまだextractやextract_firstを使ってるんですか？😊」 #Python - Qiita\n",
    "> https://qiita.com/yoshi_10_11/items/0ef017c99a0c4d145d9a\n",
    "\n",
    "#### RAG\n",
    "【RAG入門】ソースコード付き：簡単にRAGを始めたい人へ #AI - Qiita\n",
    "> https://qiita.com/batakeee/items/88141504e1fe0d5b8edc"
   ]
  },
  {
   "cell_type": "markdown",
   "id": "7b4d2d8c-0936-403a-9c70-c880838e2ad4",
   "metadata": {},
   "source": [
    "### install\n",
    "Supported Python versions are 3.9 ~ 3.13 \n",
    "\n",
    "python repos:\\\n",
    "pip install scrapy\n",
    "\n",
    "arch linux:\\\n",
    "sudo pacman -S scrapy"
   ]
  },
  {
   "cell_type": "markdown",
   "id": "df0364d7-eca9-41d2-b9d2-c8df9d721779",
   "metadata": {},
   "source": [
    "### import"
   ]
  },
  {
   "cell_type": "code",
   "execution_count": 6,
   "id": "64ffd8ba",
   "metadata": {
    "vscode": {
     "languageId": "plaintext"
    }
   },
   "outputs": [
    {
     "name": "stdout",
     "output_type": "stream",
     "text": [
      "Scrapy 2.12.0\n"
     ]
    }
   ],
   "source": [
    "!python -m scrapy version"
   ]
  },
  {
   "cell_type": "markdown",
   "id": "3fd220fa",
   "metadata": {},
   "source": [
    "### start scrapy"
   ]
  },
  {
   "cell_type": "code",
   "execution_count": 4,
   "id": "cc01ca40",
   "metadata": {
    "vscode": {
     "languageId": "plaintext"
    }
   },
   "outputs": [
    {
     "name": "stdout",
     "output_type": "stream",
     "text": [
      "New Scrapy project 'scrapy_jvn', using template directory '/usr/lib/python3.13/site-packages/scrapy/templates/project', created in:\n",
      "    /home/yokogawa/ドキュメント/MySeniorThesis-main/scrapy_jvn\n",
      "\n",
      "You can start your first spider with:\n",
      "    cd scrapy_jvn\n",
      "    scrapy genspider example example.com\n"
     ]
    }
   ],
   "source": [
    "!scrapy startproject scrapy_jvn"
   ]
  },
  {
   "cell_type": "markdown",
   "id": "c9ad4283-9b7e-49ca-b43a-906c0987a7aa",
   "metadata": {},
   "source": [
    "\\> tree\\\n",
    "Permissions Size User     Date Modified Name\\\n",
    "drwxr-xr-x     - user     9 10月 14:21 ./\\\n",
    "drwxr-xr-x     - user     9 10月 14:21 ├── scrapy_jvn/\\\n",
    "drwxr-xr-x     - user     9 10月 14:13 │   ├── spiders/\\\n",
    ".rw-r--r--     0 user     7 12月  2024 │   ├── __init__.py\\\n",
    ".rw-r--r--   265 user     9 10月 14:21 │   ├── items.py\\\n",
    ".rw-r--r--  3.7k user     9 10月 14:21 │   ├── middlewares.py\\\n",
    ".rw-r--r--   363 user     9 10月 14:21 │   ├── pipelines.py\\\n",
    ".rw-r--r--  3.3k user     9 10月 14:21 │   └── settings.py\\\n",
    ".rw-r--r--   263 user     9 10月 14:21 └── scrapy.cfg"
   ]
  },
  {
   "cell_type": "markdown",
   "id": "ad3d8e9c-2fc7-4490-82c1-e4935e416a8b",
   "metadata": {},
   "source": [
    "### edit ./scrapy_jvn/items.py"
   ]
  },
  {
   "cell_type": "code",
   "execution_count": null,
   "id": "a0fe121a-7613-4253-ba49-b46e6fb45302",
   "metadata": {},
   "outputs": [],
   "source": [
    "import scrapy\n",
    "\n",
    "class Post(scrapy.Item):\n",
    "    title = scrapy.Field()   # jvn's title\n",
    "    content = scrapy.Field() # cve's contents\n",
    "    product = scrapy.Field() # cve product status: product"
   ]
  },
  {
   "cell_type": "markdown",
   "id": "b23377f1-dcfd-487b-b2e9-5211422fe1c6",
   "metadata": {},
   "source": [
    "### add and edit spider"
   ]
  },
  {
   "cell_type": "code",
   "execution_count": 19,
   "id": "e3e0b2aa-eed9-4c8c-b7ef-d3112ff4a325",
   "metadata": {},
   "outputs": [
    {
     "name": "stdout",
     "output_type": "stream",
     "text": [
      "/home/yokogawa/ドキュメント/MySeniorThesis-main\n",
      "合計 1476\n",
      "-rw-r--r-- 1 yokogawa yokogawa  25234  9月 10 17:06 AutoregressiveDecoding.jpg\n",
      "-rw-r--r-- 1 yokogawa yokogawa  80385  9月 10 17:06 CacheSteering-Fig1.png\n",
      "-rw-r--r-- 1 yokogawa yokogawa  51847  9月 10 17:06 CacheSteering-Fig2.png\n",
      "-rw-r--r-- 1 yokogawa yokogawa  40942  9月 10 17:06 CacheSteering-Fig3.png\n",
      "-rw-r--r-- 1 yokogawa yokogawa 391675  9月 10 17:06 CacheSteering-Table1.png\n",
      "-rw-r--r-- 1 yokogawa yokogawa 137652  9月 10 17:06 CacheSteering-Table2.png\n",
      "-rw-r--r-- 1 yokogawa yokogawa  63750  9月 10 17:06 CacheSteering-Table3.png\n",
      "-rw-r--r-- 1 yokogawa yokogawa  37023  9月 10 17:06 CacheSteering-Table4.png\n",
      "-rw-r--r-- 1 yokogawa yokogawa 342125  9月 10 17:06 Flamingo_architecture.png\n",
      "-rw-r--r-- 1 yokogawa yokogawa   5227  9月 11 17:08 LLM_Articles_trend.md\n",
      "-rw-r--r-- 1 yokogawa yokogawa  13356 10月  3 18:13 LLM_withRLHF.md\n",
      "-rw-r--r-- 1 yokogawa yokogawa   6678  9月 25 15:37 Linux_and_LLM.md\n",
      "-rw-r--r-- 1 yokogawa yokogawa    464  9月 11 17:12 README.md\n",
      "-rw-r--r-- 1 yokogawa yokogawa   7873  9月 18 16:54 Whats-Transformer.md\n",
      "-rw-r--r-- 1 yokogawa yokogawa 199964  9月 10 17:06 WhatsRAG-1.png\n",
      "-rw-r--r-- 1 yokogawa yokogawa   4716  9月 11 14:11 WhatsRAG_FrozenModel.md\n",
      "-rw-r--r-- 1 yokogawa yokogawa  11941 10月  9 14:45 make-RAG_vulnerability.md\n",
      "drwxr-xr-x 3 yokogawa yokogawa   4096 10月  9 14:21 scrapy_jvn\n",
      "-rw-r--r-- 1 yokogawa yokogawa   7017 10月  9 14:59 scrapy_test.ipynb\n",
      "drwxr-xr-x 2 yokogawa yokogawa   4096  9月 10 17:06 translate\n",
      "-rw-r--r-- 1 yokogawa yokogawa  18201  9月 11 14:11 要約_AutoRAG-LoRA.md\n",
      "-rw-r--r-- 1 yokogawa yokogawa  19808  9月 11 16:46 要約_KV-CacheSteering.md\n"
     ]
    }
   ],
   "source": [
    "!pwd\n",
    "!ls -l"
   ]
  },
  {
   "cell_type": "markdown",
   "id": "4441de3f-d43e-4311-b0cf-f207719c870c",
   "metadata": {},
   "source": [
    "#### Navigate to your Scrapy project directory and execute the following command:\n",
    "```\n",
    "scrapy genspider ${spider_name} ${domain_name}\n",
    "```\n",
    "\n",
    "ex)\n",
    "```\n",
    "scrapy genspider jvn_spider-test https://jvndb.jvn.jp/ja/contents/2025/JVNDB-2025-005907.html\n",
    "```\n",
    "\n",
    "or create the file using the following as a reference:"
   ]
  },
  {
   "cell_type": "code",
   "execution_count": null,
   "id": "5f830a74-f383-4887-ac92-ef57cfb5a9d6",
   "metadata": {},
   "outputs": [],
   "source": [
    "import scrapy\n",
    "\n",
    "class JvnSpiderTestSpider(scrapy.Spider):\n",
    "    name = \"jvn_spider-test\"\n",
    "    allowed_domains = [\"jvndb.jvn.jp\"]\n",
    "    start_urls = [\"https://jvndb.jvn.jp/ja/contents/2025/JVNDB-2025-005907.html\"]\n",
    "\n",
    "    def parse(self, response):\n",
    "\n",
    "        \"\"\"\n",
    "        レスポンスに対するパース処理\n",
    "        \"\"\"\n",
    "        # response.css で scrapy デフォルトの css セレクタを利用できる\n",
    "        for post in response.css('.post-listing .post-item'):\n",
    "            # items に定義した Post のオブジェクトを生成して次の処理へ渡す\n",
    "            yield Post(\n",
    "                title=post.css('div.post-header a::text').getall(),\n",
    "                content=post.css('div.post-header span.date a::text').getall(),\n",
    "                product=post.css('div.post-header span.date a::text').getall(),\n",
    "            )\n",
    "\n",
    "        # 再帰的にページングを辿るための処理\n",
    "        older_post_link = response.css('.blog-pagination a.next-posts-link::attr(href)').extract_first()\n",
    "        if older_post_link is None:\n",
    "            # リンクが取得できなかった場合は最後のページなので処理を終了\n",
    "            return\n",
    "\n",
    "        # URLが相対パスだった場合に絶対パスに変換する\n",
    "        older_post_link = response.urljoin(older_post_link)\n",
    "        # 次のページをのリクエストを実行する\n",
    "        yield scrapy.Request(older_post_link, callback=self.parse)\n"
   ]
  },
  {
   "cell_type": "markdown",
   "id": "6d73dfd6-9e0b-4317-ba34-da28adbf05c1",
   "metadata": {},
   "source": [
    "### edit ./scrapy_jvn/settings.py"
   ]
  },
  {
   "cell_type": "code",
   "execution_count": null,
   "id": "1ab89c4a-cf3a-4b8c-bb35-43c4f0852f8e",
   "metadata": {},
   "outputs": [],
   "source": [
    "# Enable the following. Simply uncomment it:\n",
    "DOWNLOAD_DELAY = 5\n",
    "\n",
    "HTTPCACHE_ENABLED = True\n",
    "HTTPCACHE_EXPIRATION_SECS = 0\n",
    "HTTPCACHE_DIR = 'httpcache'\n",
    "HTTPCACHE_IGNORE_HTTP_CODES = []\n",
    "HTTPCACHE_STORAGE = 'scrapy.extensions.httpcache.FilesystemCacheStorage'"
   ]
  },
  {
   "cell_type": "markdown",
   "id": "9d287494-b8fa-4f93-b71e-43cd6e7827ca",
   "metadata": {},
   "source": [
    "### run scrapy"
   ]
  },
  {
   "cell_type": "code",
   "execution_count": null,
   "id": "b17c304d-f95c-4a54-9838-7e6be14874a9",
   "metadata": {},
   "outputs": [],
   "source": [
    "!scrapy crawl scrapy jvn_spider-test -o data.csv"
   ]
  },
  {
   "cell_type": "markdown",
   "id": "44a28d1c-ec63-47cf-adc2-69b10b931021",
   "metadata": {},
   "source": [
    "### search html/css"
   ]
  },
  {
   "cell_type": "code",
   "execution_count": null,
   "id": "a93c53d0-3d25-4814-b286-f3b4a1f7adf8",
   "metadata": {},
   "outputs": [],
   "source": [
    "!scrapy shell ${domain_name}"
   ]
  },
  {
   "cell_type": "markdown",
   "id": "bddc0d52-3f8c-41d9-b444-fa4efc52ebd1",
   "metadata": {},
   "source": [
    "### scraping analysis results"
   ]
  },
  {
   "cell_type": "markdown",
   "id": "88298cca-a0de-4b70-8919-c1dc1600aa97",
   "metadata": {},
   "source": [
    "In [1]: response.css('body').getall()\n",
    "Out[1]: ['<body>\\n<a name=\"top\" id=\"top\"></a>\\n<!-- ↓ ヘッダ表示 ↓ -->\\n<div id=\"wrapper\">\\n\\n ... <div id=\"mainarea\">\\n        <!-- leftarea begin -->\\n        <div id=\"leftarea\">\\n            <div class=\"contents\">\\n                <div id=\"news-list\">\\n<br>\\n<table class=\"vuln_table_clase\"> ... </body>']\n",
    "\n",
    "In [2]: response.css('title::text').getall()\n",
    "Out[2]: ['JVNDB-2025-005907 - JVN iPedia - 脆弱性対策情報データベース']\n",
    "\n",
    "In [3]: response.css('body a::attr(href)').getall()\n",
    "Out[3]:\n",
    "['/',\n",
    " ...\n",
    " 'https://www.cve.org/CVERecord?id=CVE-2025-32434',\n",
    " 'https://nvd.nist.gov/vuln/detail/CVE-2025-32434',\n",
    "...]"
   ]
  },
  {
   "cell_type": "markdown",
   "id": "34cd4652-a6af-4e9b-9128-ab4c7cf7afab",
   "metadata": {},
   "source": [
    "Scrapyのセレクターでテキストを取得 #Scrapy - Qiita\n",
    "> https://qiita.com/itoi10/items/ab855a5e2fdad1535931"
   ]
  },
  {
   "cell_type": "code",
   "execution_count": null,
   "id": "7f33cbe5-5022-4701-ab90-33110de74a34",
   "metadata": {},
   "outputs": [],
   "source": []
  }
 ],
 "metadata": {
  "kernelspec": {
   "display_name": "Python 3 (ipykernel)",
   "language": "python",
   "name": "python3"
  },
  "language_info": {
   "codemirror_mode": {
    "name": "ipython",
    "version": 3
   },
   "file_extension": ".py",
   "mimetype": "text/x-python",
   "name": "python",
   "nbconvert_exporter": "python",
   "pygments_lexer": "ipython3",
   "version": "3.13.7"
  }
 },
 "nbformat": 4,
 "nbformat_minor": 5
}
